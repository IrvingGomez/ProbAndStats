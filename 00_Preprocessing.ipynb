{
 "cells": [
  {
   "cell_type": "code",
   "execution_count": 1,
   "metadata": {},
   "outputs": [],
   "source": [
    "import pandas as pd"
   ]
  },
  {
   "cell_type": "code",
   "execution_count": 2,
   "metadata": {},
   "outputs": [],
   "source": [
    "DataWhr2024 = pd.read_csv(\"DataWhr2024.csv\")\n",
    "UnM49 = pd.read_csv(\"UnM49.csv\", sep=';')"
   ]
  },
  {
   "cell_type": "code",
   "execution_count": 3,
   "metadata": {},
   "outputs": [],
   "source": [
    "DataWhr2024.loc[DataWhr2024[\"Country name\"].str.startswith(\"Hong\"), \"Country name\"] = \"Hong Kong\"\n",
    "DataWhr2024.loc[DataWhr2024[\"Country name\"].str.startswith(\"Somaliland\"), \"Country name\"] = \"Somaliland\"\n",
    "DataWhr2024.loc[DataWhr2024[\"Country name\"].str.startswith(\"Taiwan\"), \"Country name\"] = \"Taiwan\""
   ]
  },
  {
   "cell_type": "code",
   "execution_count": 4,
   "metadata": {},
   "outputs": [],
   "source": [
    "UnM49 = UnM49[['Country or Area', 'Sub-region Name', 'Region Name']]\n",
    "UnM49 = UnM49.rename({'Country or Area':'Country name', 'Sub-region Name':'Subregion', 'Region Name':'Continent'}, axis=1)"
   ]
  },
  {
   "cell_type": "code",
   "execution_count": 5,
   "metadata": {},
   "outputs": [],
   "source": [
    "UnM49.loc[97, \"Country name\"] = \"Bolivia\"\n",
    "UnM49.loc[33, \"Country name\"] = \"Congo (Brazzaville)\"\n",
    "UnM49.loc[34, \"Country name\"] = \"Congo (Kinshasa)\"\n",
    "UnM49.loc[124, \"Country name\"] = \"Hong Kong\"\n",
    "UnM49.loc[125, \"Country name\"] = \"Macao\"\n",
    "UnM49.loc[126, \"Country name\"] = \"North Korea\"\n",
    "UnM49.loc[145, \"Country name\"] = \"Iran\"\n",
    "UnM49.loc[46, \"Country name\"] = \"Ivory Coast\"\n",
    "UnM49.loc[133, \"Country name\"] = \"Laos\"\n",
    "UnM49.loc[129, \"Country name\"] = \"South Korea\"\n",
    "UnM49.loc[173, \"Country name\"] = \"Moldova\"\n",
    "UnM49.loc[217, \"Country name\"] = \"Netherlands\"\n",
    "UnM49.loc[175, \"Country name\"] = \"Russia\"\n",
    "UnM49.loc[164, \"Country name\"] = \"Syria\"\n",
    "UnM49.loc[26, \"Country name\"] = \"Tanzania\"\n",
    "UnM49.loc[116, \"Country name\"] = \"United States\"\n",
    "UnM49.loc[193, \"Country name\"] = \"United Kingdom\"\n",
    "UnM49.loc[111, \"Country name\"] = \"Venezuela\"\n",
    "UnM49.loc[140, \"Country name\"] = \"Vietnam\""
   ]
  },
  {
   "cell_type": "code",
   "execution_count": 6,
   "metadata": {},
   "outputs": [],
   "source": [
    "_ = pd.DataFrame(\n",
    "    {\n",
    "        \"Country name\": [\"Kosovo\", \"Somaliland\", \"Taiwan\"],\n",
    "        \"Subregion\": [\"Southern Europe\", \"Sub-Saharan Africa\", \"Eastern Asia\"],\n",
    "        \"Continent\": [\"Europe\", \"Africa\", \"Asia\"],\n",
    "    }\n",
    ")\n",
    "\n",
    "UnM49 = pd.concat([UnM49, _], axis=0)\n",
    "UnM49 = UnM49.reset_index(drop=True)"
   ]
  },
  {
   "cell_type": "markdown",
   "metadata": {},
   "source": [
    "Merging the datasets"
   ]
  },
  {
   "cell_type": "code",
   "execution_count": 7,
   "metadata": {},
   "outputs": [],
   "source": [
    "# Data\n",
    "Dat = pd.merge(DataWhr2024, UnM49)\n",
    "\n",
    "# Data of 2023\n",
    "Dat2023 = Dat[Dat['year'] == 2023]\n",
    "Dat2023 = Dat2023.reset_index(drop=True)"
   ]
  },
  {
   "cell_type": "markdown",
   "metadata": {},
   "source": [
    "In a previous analysis, I found that Afghanistan behaves as a leverage point, while Botswana and Sri Lanka bahave as outliers. Thus, we will not consider these countries in our analyses"
   ]
  },
  {
   "cell_type": "code",
   "execution_count": 8,
   "metadata": {},
   "outputs": [
    {
     "data": {
      "text/html": [
       "<div>\n",
       "<style scoped>\n",
       "    .dataframe tbody tr th:only-of-type {\n",
       "        vertical-align: middle;\n",
       "    }\n",
       "\n",
       "    .dataframe tbody tr th {\n",
       "        vertical-align: top;\n",
       "    }\n",
       "\n",
       "    .dataframe thead th {\n",
       "        text-align: right;\n",
       "    }\n",
       "</style>\n",
       "<table border=\"1\" class=\"dataframe\">\n",
       "  <thead>\n",
       "    <tr style=\"text-align: right;\">\n",
       "      <th></th>\n",
       "      <th>Country name</th>\n",
       "      <th>year</th>\n",
       "      <th>Life Ladder</th>\n",
       "      <th>Log GDP per capita</th>\n",
       "      <th>Social support</th>\n",
       "      <th>Healthy life expectancy at birth</th>\n",
       "      <th>Freedom to make life choices</th>\n",
       "      <th>Generosity</th>\n",
       "      <th>Perceptions of corruption</th>\n",
       "      <th>Positive affect</th>\n",
       "      <th>Negative affect</th>\n",
       "      <th>Subregion</th>\n",
       "      <th>Continent</th>\n",
       "    </tr>\n",
       "  </thead>\n",
       "  <tbody>\n",
       "    <tr>\n",
       "      <th>0</th>\n",
       "      <td>Afghanistan</td>\n",
       "      <td>2023</td>\n",
       "      <td>1.446</td>\n",
       "      <td>NaN</td>\n",
       "      <td>0.368</td>\n",
       "      <td>55.2</td>\n",
       "      <td>0.228</td>\n",
       "      <td>NaN</td>\n",
       "      <td>0.738</td>\n",
       "      <td>0.261</td>\n",
       "      <td>0.460</td>\n",
       "      <td>Southern Asia</td>\n",
       "      <td>Asia</td>\n",
       "    </tr>\n",
       "    <tr>\n",
       "      <th>13</th>\n",
       "      <td>Botswana</td>\n",
       "      <td>2023</td>\n",
       "      <td>3.332</td>\n",
       "      <td>9.673</td>\n",
       "      <td>0.701</td>\n",
       "      <td>55.0</td>\n",
       "      <td>0.741</td>\n",
       "      <td>-0.264</td>\n",
       "      <td>0.814</td>\n",
       "      <td>0.657</td>\n",
       "      <td>0.247</td>\n",
       "      <td>Sub-Saharan Africa</td>\n",
       "      <td>Africa</td>\n",
       "    </tr>\n",
       "    <tr>\n",
       "      <th>115</th>\n",
       "      <td>Sri Lanka</td>\n",
       "      <td>2023</td>\n",
       "      <td>3.602</td>\n",
       "      <td>9.364</td>\n",
       "      <td>0.790</td>\n",
       "      <td>67.4</td>\n",
       "      <td>0.754</td>\n",
       "      <td>0.050</td>\n",
       "      <td>0.922</td>\n",
       "      <td>0.709</td>\n",
       "      <td>0.353</td>\n",
       "      <td>Southern Asia</td>\n",
       "      <td>Asia</td>\n",
       "    </tr>\n",
       "  </tbody>\n",
       "</table>\n",
       "</div>"
      ],
      "text/plain": [
       "    Country name  year  Life Ladder  Log GDP per capita  Social support  \\\n",
       "0    Afghanistan  2023        1.446                 NaN           0.368   \n",
       "13      Botswana  2023        3.332               9.673           0.701   \n",
       "115    Sri Lanka  2023        3.602               9.364           0.790   \n",
       "\n",
       "     Healthy life expectancy at birth  Freedom to make life choices  \\\n",
       "0                                55.2                         0.228   \n",
       "13                               55.0                         0.741   \n",
       "115                              67.4                         0.754   \n",
       "\n",
       "     Generosity  Perceptions of corruption  Positive affect  Negative affect  \\\n",
       "0           NaN                      0.738            0.261            0.460   \n",
       "13       -0.264                      0.814            0.657            0.247   \n",
       "115       0.050                      0.922            0.709            0.353   \n",
       "\n",
       "              Subregion Continent  \n",
       "0         Southern Asia      Asia  \n",
       "13   Sub-Saharan Africa    Africa  \n",
       "115       Southern Asia      Asia  "
      ]
     },
     "execution_count": 8,
     "metadata": {},
     "output_type": "execute_result"
    }
   ],
   "source": [
    "Dat2023.loc[[0, 13, 115]]"
   ]
  },
  {
   "cell_type": "code",
   "execution_count": 9,
   "metadata": {},
   "outputs": [],
   "source": [
    "Dat2023 = Dat2023.drop([0, 13, 115])"
   ]
  },
  {
   "cell_type": "code",
   "execution_count": 10,
   "metadata": {},
   "outputs": [],
   "source": [
    "Dat2023.to_csv(\"WHR_2023_processed.csv\", index=False)"
   ]
  }
 ],
 "metadata": {
  "kernelspec": {
   "display_name": "Python 3",
   "language": "python",
   "name": "python3"
  },
  "language_info": {
   "codemirror_mode": {
    "name": "ipython",
    "version": 3
   },
   "file_extension": ".py",
   "mimetype": "text/x-python",
   "name": "python",
   "nbconvert_exporter": "python",
   "pygments_lexer": "ipython3",
   "version": "3.11.9"
  }
 },
 "nbformat": 4,
 "nbformat_minor": 2
}
