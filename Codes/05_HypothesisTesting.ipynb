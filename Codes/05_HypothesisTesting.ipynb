{
 "cells": [
  {
   "cell_type": "code",
   "execution_count": 1,
   "metadata": {},
   "outputs": [],
   "source": [
    "import numpy as np\n",
    "import pandas as pd\n",
    "\n",
    "import pingouin\n",
    "\n",
    "from scipy.stats import norm, poisson, invgamma, f\n",
    "from scipy.stats import ttest_1samp, ttest_ind, bartlett, levene, f_oneway"
   ]
  },
  {
   "cell_type": "markdown",
   "metadata": {},
   "source": [
    "Simulate 6 groups, each one woth its own ammount of observations, and following a hierarchical structure"
   ]
  },
  {
   "cell_type": "code",
   "execution_count": 2,
   "metadata": {},
   "outputs": [],
   "source": [
    "J = 6\n",
    "\n",
    "np.random.seed(111)\n",
    "N = poisson.rvs(3, size=J, loc=10)\n",
    "\n",
    "MU  = -9\n",
    "TAU = 1\n",
    "RHO = 3\n",
    "NU  = 4\n",
    "\n",
    "np.random.seed(111)\n",
    "THETA  = norm.rvs(size=J, loc=MU, scale=TAU)\n",
    "SIGMA2 = invgamma.rvs(size=J, a=NU/2, scale=NU/2*RHO**2)\n",
    "\n",
    "SIGMA = np.sqrt(SIGMA2)\n",
    "\n",
    "ALPHA_LEVEL = 0.05\n",
    "\n",
    "VARIABLE = 'Y'"
   ]
  },
  {
   "cell_type": "code",
   "execution_count": 3,
   "metadata": {},
   "outputs": [],
   "source": [
    "Y = norm.rvs(size=N[0], loc=THETA[0], scale=SIGMA[0])\n",
    "Dat = pd.DataFrame(np.array([Y, [0]*N[0]]).T)\n",
    "\n",
    "for j in range(1,J):\n",
    "    Y = norm.rvs(size=N[j], loc=THETA[j], scale=SIGMA[j])\n",
    "    DatAux = pd.DataFrame(np.array([Y, [j]*N[j]]).T)\n",
    "    Dat = pd.concat([Dat, DatAux])\n",
    "\n",
    "Dat = Dat.rename(columns={0:VARIABLE, 1:'Group'})\n",
    "Dat['Group'] = Dat['Group'].astype(int)"
   ]
  },
  {
   "cell_type": "code",
   "execution_count": 4,
   "metadata": {},
   "outputs": [],
   "source": [
    "DatGroup = Dat.groupby(\"Group\").agg([\"count\", \"mean\", \"var\"]).reset_index()"
   ]
  },
  {
   "cell_type": "code",
   "execution_count": 5,
   "metadata": {},
   "outputs": [
    {
     "data": {
      "text/html": [
       "<div>\n",
       "<style scoped>\n",
       "    .dataframe tbody tr th:only-of-type {\n",
       "        vertical-align: middle;\n",
       "    }\n",
       "\n",
       "    .dataframe tbody tr th {\n",
       "        vertical-align: top;\n",
       "    }\n",
       "\n",
       "    .dataframe thead tr th {\n",
       "        text-align: left;\n",
       "    }\n",
       "</style>\n",
       "<table border=\"1\" class=\"dataframe\">\n",
       "  <thead>\n",
       "    <tr>\n",
       "      <th></th>\n",
       "      <th>Group</th>\n",
       "      <th colspan=\"3\" halign=\"left\">Y</th>\n",
       "    </tr>\n",
       "    <tr>\n",
       "      <th></th>\n",
       "      <th></th>\n",
       "      <th>count</th>\n",
       "      <th>mean</th>\n",
       "      <th>var</th>\n",
       "    </tr>\n",
       "  </thead>\n",
       "  <tbody>\n",
       "    <tr>\n",
       "      <th>0</th>\n",
       "      <td>0</td>\n",
       "      <td>12</td>\n",
       "      <td>-10.148234</td>\n",
       "      <td>1.862126</td>\n",
       "    </tr>\n",
       "    <tr>\n",
       "      <th>1</th>\n",
       "      <td>1</td>\n",
       "      <td>12</td>\n",
       "      <td>-8.706604</td>\n",
       "      <td>14.571669</td>\n",
       "    </tr>\n",
       "    <tr>\n",
       "      <th>2</th>\n",
       "      <td>2</td>\n",
       "      <td>10</td>\n",
       "      <td>-8.423547</td>\n",
       "      <td>3.435911</td>\n",
       "    </tr>\n",
       "    <tr>\n",
       "      <th>3</th>\n",
       "      <td>3</td>\n",
       "      <td>12</td>\n",
       "      <td>-7.731961</td>\n",
       "      <td>11.539293</td>\n",
       "    </tr>\n",
       "    <tr>\n",
       "      <th>4</th>\n",
       "      <td>4</td>\n",
       "      <td>12</td>\n",
       "      <td>-12.217278</td>\n",
       "      <td>79.296169</td>\n",
       "    </tr>\n",
       "    <tr>\n",
       "      <th>5</th>\n",
       "      <td>5</td>\n",
       "      <td>14</td>\n",
       "      <td>-9.041636</td>\n",
       "      <td>3.623141</td>\n",
       "    </tr>\n",
       "  </tbody>\n",
       "</table>\n",
       "</div>"
      ],
      "text/plain": [
       "  Group     Y                      \n",
       "        count       mean        var\n",
       "0     0    12 -10.148234   1.862126\n",
       "1     1    12  -8.706604  14.571669\n",
       "2     2    10  -8.423547   3.435911\n",
       "3     3    12  -7.731961  11.539293\n",
       "4     4    12 -12.217278  79.296169\n",
       "5     5    14  -9.041636   3.623141"
      ]
     },
     "execution_count": 5,
     "metadata": {},
     "output_type": "execute_result"
    }
   ],
   "source": [
    "DatGroup"
   ]
  },
  {
   "cell_type": "markdown",
   "metadata": {},
   "source": [
    "---"
   ]
  },
  {
   "cell_type": "markdown",
   "metadata": {},
   "source": [
    "## One sample Student's t-test"
   ]
  },
  {
   "cell_type": "markdown",
   "metadata": {},
   "source": [
    "### Comparing the mean of Group 0 against $\\mu_0=-9$"
   ]
  },
  {
   "cell_type": "code",
   "execution_count": 6,
   "metadata": {},
   "outputs": [],
   "source": [
    "mu0 = -9"
   ]
  },
  {
   "cell_type": "code",
   "execution_count": 7,
   "metadata": {},
   "outputs": [
    {
     "data": {
      "text/html": [
       "<div>\n",
       "<style scoped>\n",
       "    .dataframe tbody tr th:only-of-type {\n",
       "        vertical-align: middle;\n",
       "    }\n",
       "\n",
       "    .dataframe tbody tr th {\n",
       "        vertical-align: top;\n",
       "    }\n",
       "\n",
       "    .dataframe thead th {\n",
       "        text-align: right;\n",
       "    }\n",
       "</style>\n",
       "<table border=\"1\" class=\"dataframe\">\n",
       "  <thead>\n",
       "    <tr style=\"text-align: right;\">\n",
       "      <th></th>\n",
       "      <th>T</th>\n",
       "      <th>dof</th>\n",
       "      <th>alternative</th>\n",
       "      <th>p-val</th>\n",
       "      <th>CI95%</th>\n",
       "      <th>cohen-d</th>\n",
       "      <th>BF10</th>\n",
       "      <th>power</th>\n",
       "    </tr>\n",
       "  </thead>\n",
       "  <tbody>\n",
       "    <tr>\n",
       "      <th>T-test</th>\n",
       "      <td>-2.914851</td>\n",
       "      <td>11</td>\n",
       "      <td>two-sided</td>\n",
       "      <td>0.014066</td>\n",
       "      <td>[-11.02, -9.28]</td>\n",
       "      <td>0.841445</td>\n",
       "      <td>4.492</td>\n",
       "      <td>0.756126</td>\n",
       "    </tr>\n",
       "  </tbody>\n",
       "</table>\n",
       "</div>"
      ],
      "text/plain": [
       "               T  dof alternative     p-val            CI95%   cohen-d   BF10  \\\n",
       "T-test -2.914851   11   two-sided  0.014066  [-11.02, -9.28]  0.841445  4.492   \n",
       "\n",
       "           power  \n",
       "T-test  0.756126  "
      ]
     },
     "execution_count": 7,
     "metadata": {},
     "output_type": "execute_result"
    }
   ],
   "source": [
    "pingouin.ttest(Dat[Dat[\"Group\"]==0][\"Y\"], mu0)"
   ]
  },
  {
   "cell_type": "code",
   "execution_count": 8,
   "metadata": {},
   "outputs": [
    {
     "data": {
      "text/plain": [
       "TtestResult(statistic=-2.914850712740165, pvalue=0.014066446537359667, df=11)"
      ]
     },
     "execution_count": 8,
     "metadata": {},
     "output_type": "execute_result"
    }
   ],
   "source": [
    "ttest_1samp(Dat[Dat[\"Group\"]==0][\"Y\"], mu0)"
   ]
  },
  {
   "cell_type": "markdown",
   "metadata": {},
   "source": [
    "The $p$-value is so low, that we can reject the hypothesis that $\\theta_0=-9$"
   ]
  },
  {
   "cell_type": "markdown",
   "metadata": {},
   "source": [
    "### Comparing the mean of Group 5 against $\\mu_0=-9$"
   ]
  },
  {
   "cell_type": "code",
   "execution_count": 9,
   "metadata": {},
   "outputs": [
    {
     "data": {
      "text/html": [
       "<div>\n",
       "<style scoped>\n",
       "    .dataframe tbody tr th:only-of-type {\n",
       "        vertical-align: middle;\n",
       "    }\n",
       "\n",
       "    .dataframe tbody tr th {\n",
       "        vertical-align: top;\n",
       "    }\n",
       "\n",
       "    .dataframe thead th {\n",
       "        text-align: right;\n",
       "    }\n",
       "</style>\n",
       "<table border=\"1\" class=\"dataframe\">\n",
       "  <thead>\n",
       "    <tr style=\"text-align: right;\">\n",
       "      <th></th>\n",
       "      <th>T</th>\n",
       "      <th>dof</th>\n",
       "      <th>alternative</th>\n",
       "      <th>p-val</th>\n",
       "      <th>CI95%</th>\n",
       "      <th>cohen-d</th>\n",
       "      <th>BF10</th>\n",
       "      <th>power</th>\n",
       "    </tr>\n",
       "  </thead>\n",
       "  <tbody>\n",
       "    <tr>\n",
       "      <th>T-test</th>\n",
       "      <td>-0.081844</td>\n",
       "      <td>13</td>\n",
       "      <td>two-sided</td>\n",
       "      <td>0.936017</td>\n",
       "      <td>[-10.14, -7.94]</td>\n",
       "      <td>0.021874</td>\n",
       "      <td>0.271</td>\n",
       "      <td>0.050662</td>\n",
       "    </tr>\n",
       "  </tbody>\n",
       "</table>\n",
       "</div>"
      ],
      "text/plain": [
       "               T  dof alternative     p-val            CI95%   cohen-d   BF10  \\\n",
       "T-test -0.081844   13   two-sided  0.936017  [-10.14, -7.94]  0.021874  0.271   \n",
       "\n",
       "           power  \n",
       "T-test  0.050662  "
      ]
     },
     "execution_count": 9,
     "metadata": {},
     "output_type": "execute_result"
    }
   ],
   "source": [
    "pingouin.ttest(Dat[Dat[\"Group\"]==5][\"Y\"], mu0)"
   ]
  },
  {
   "cell_type": "code",
   "execution_count": 10,
   "metadata": {},
   "outputs": [
    {
     "data": {
      "text/plain": [
       "TtestResult(statistic=-0.08184406937964947, pvalue=0.9360174088882173, df=13)"
      ]
     },
     "execution_count": 10,
     "metadata": {},
     "output_type": "execute_result"
    }
   ],
   "source": [
    "ttest_1samp(Dat[Dat[\"Group\"]==5][\"Y\"], mu0)"
   ]
  },
  {
   "cell_type": "markdown",
   "metadata": {},
   "source": [
    "The $p$-value is so high, that we cannot reject the hypothesis that $\\theta_5=-9$"
   ]
  },
  {
   "cell_type": "markdown",
   "metadata": {},
   "source": [
    "---"
   ]
  },
  {
   "cell_type": "markdown",
   "metadata": {},
   "source": [
    "## Testing equal variance in two groups"
   ]
  },
  {
   "cell_type": "markdown",
   "metadata": {},
   "source": [
    "### Comparing Group 2 and Group 5"
   ]
  },
  {
   "cell_type": "code",
   "execution_count": 11,
   "metadata": {},
   "outputs": [
    {
     "data": {
      "text/plain": [
       "array([0.52220779])"
      ]
     },
     "execution_count": 11,
     "metadata": {},
     "output_type": "execute_result"
    }
   ],
   "source": [
    "FTest = (DatGroup[DatGroup[\"Group\"]==2][\"Y\"][\"var\"]).values / (DatGroup[DatGroup[\"Group\"]==5][\"Y\"][\"var\"]).values\n",
    "n1 = DatGroup[DatGroup[\"Group\"]==2][\"Y\"][\"count\"]\n",
    "n2 = DatGroup[DatGroup[\"Group\"]==5][\"Y\"][\"count\"]\n",
    "\n",
    "f.sf(FTest, n1, n2)"
   ]
  },
  {
   "cell_type": "markdown",
   "metadata": {},
   "source": [
    "### Bartlett and Levene tests"
   ]
  },
  {
   "cell_type": "markdown",
   "metadata": {},
   "source": [
    "Bartlett's and Levene's tests are popular to test equal variance between groups"
   ]
  },
  {
   "cell_type": "code",
   "execution_count": 12,
   "metadata": {},
   "outputs": [
    {
     "data": {
      "text/plain": [
       "BartlettResult(statistic=0.007122692067720255, pvalue=0.9327415533221795)"
      ]
     },
     "execution_count": 12,
     "metadata": {},
     "output_type": "execute_result"
    }
   ],
   "source": [
    "bartlett(Dat[Dat[\"Group\"]==5][\"Y\"], Dat[Dat[\"Group\"]==2][\"Y\"])"
   ]
  },
  {
   "cell_type": "code",
   "execution_count": 13,
   "metadata": {},
   "outputs": [
    {
     "data": {
      "text/plain": [
       "LeveneResult(statistic=0.1411107486371548, pvalue=0.7107769681238512)"
      ]
     },
     "execution_count": 13,
     "metadata": {},
     "output_type": "execute_result"
    }
   ],
   "source": [
    "levene(Dat[Dat[\"Group\"]==5][\"Y\"], Dat[Dat[\"Group\"]==2][\"Y\"])"
   ]
  },
  {
   "cell_type": "markdown",
   "metadata": {},
   "source": [
    "We cannot reject the hypothesis of equal variances."
   ]
  },
  {
   "cell_type": "markdown",
   "metadata": {},
   "source": [
    "### Comparing Group 0 and Group 4"
   ]
  },
  {
   "cell_type": "markdown",
   "metadata": {},
   "source": [
    "We will test the hypothesis that the variance of the groups 0 and 4 are equal"
   ]
  },
  {
   "cell_type": "code",
   "execution_count": 14,
   "metadata": {},
   "outputs": [
    {
     "data": {
      "text/plain": [
       "array([6.10386152e-08])"
      ]
     },
     "execution_count": 14,
     "metadata": {},
     "output_type": "execute_result"
    }
   ],
   "source": [
    "FTest = (DatGroup[DatGroup[\"Group\"]==4][\"Y\"][\"var\"]).values / (DatGroup[DatGroup[\"Group\"]==0][\"Y\"][\"var\"]).values\n",
    "n1 = DatGroup[DatGroup[\"Group\"]==4][\"Y\"][\"count\"]\n",
    "n2 = DatGroup[DatGroup[\"Group\"]==0][\"Y\"][\"count\"]\n",
    "\n",
    "f.sf(FTest, n1, n2)"
   ]
  },
  {
   "cell_type": "code",
   "execution_count": 15,
   "metadata": {},
   "outputs": [
    {
     "data": {
      "text/plain": [
       "BartlettResult(statistic=25.374224916868826, pvalue=4.721851987853883e-07)"
      ]
     },
     "execution_count": 15,
     "metadata": {},
     "output_type": "execute_result"
    }
   ],
   "source": [
    "bartlett(Dat[Dat[\"Group\"]==0][\"Y\"], Dat[Dat[\"Group\"]==4][\"Y\"])"
   ]
  },
  {
   "cell_type": "code",
   "execution_count": 16,
   "metadata": {},
   "outputs": [
    {
     "data": {
      "text/plain": [
       "LeveneResult(statistic=6.152892806692913, pvalue=0.021251787316881685)"
      ]
     },
     "execution_count": 16,
     "metadata": {},
     "output_type": "execute_result"
    }
   ],
   "source": [
    "levene(Dat[Dat[\"Group\"]==0][\"Y\"], Dat[Dat[\"Group\"]==4][\"Y\"])"
   ]
  },
  {
   "cell_type": "markdown",
   "metadata": {},
   "source": [
    "We reject the hypothesis of equal variances."
   ]
  },
  {
   "cell_type": "markdown",
   "metadata": {},
   "source": [
    "In conclusion, we can act as if Groups 2 and 5 have the same variance. But Groups 0 and 4 have different variances."
   ]
  },
  {
   "cell_type": "markdown",
   "metadata": {},
   "source": [
    "---"
   ]
  },
  {
   "cell_type": "markdown",
   "metadata": {},
   "source": [
    "## Testing equal mean in two groups"
   ]
  },
  {
   "cell_type": "markdown",
   "metadata": {},
   "source": [
    "### Comparing Group 0 and Group 5"
   ]
  },
  {
   "cell_type": "code",
   "execution_count": 17,
   "metadata": {},
   "outputs": [
    {
     "data": {
      "text/html": [
       "<div>\n",
       "<style scoped>\n",
       "    .dataframe tbody tr th:only-of-type {\n",
       "        vertical-align: middle;\n",
       "    }\n",
       "\n",
       "    .dataframe tbody tr th {\n",
       "        vertical-align: top;\n",
       "    }\n",
       "\n",
       "    .dataframe thead th {\n",
       "        text-align: right;\n",
       "    }\n",
       "</style>\n",
       "<table border=\"1\" class=\"dataframe\">\n",
       "  <thead>\n",
       "    <tr style=\"text-align: right;\">\n",
       "      <th></th>\n",
       "      <th>T</th>\n",
       "      <th>dof</th>\n",
       "      <th>alternative</th>\n",
       "      <th>p-val</th>\n",
       "      <th>CI95%</th>\n",
       "      <th>cohen-d</th>\n",
       "      <th>BF10</th>\n",
       "      <th>power</th>\n",
       "    </tr>\n",
       "  </thead>\n",
       "  <tbody>\n",
       "    <tr>\n",
       "      <th>T-test</th>\n",
       "      <td>-1.719903</td>\n",
       "      <td>23.344629</td>\n",
       "      <td>two-sided</td>\n",
       "      <td>0.098682</td>\n",
       "      <td>[-2.44, 0.22]</td>\n",
       "      <td>0.659436</td>\n",
       "      <td>1.05</td>\n",
       "      <td>0.363095</td>\n",
       "    </tr>\n",
       "  </tbody>\n",
       "</table>\n",
       "</div>"
      ],
      "text/plain": [
       "               T        dof alternative     p-val          CI95%   cohen-d  \\\n",
       "T-test -1.719903  23.344629   two-sided  0.098682  [-2.44, 0.22]  0.659436   \n",
       "\n",
       "        BF10     power  \n",
       "T-test  1.05  0.363095  "
      ]
     },
     "execution_count": 17,
     "metadata": {},
     "output_type": "execute_result"
    }
   ],
   "source": [
    "pingouin.ttest(Dat[Dat[\"Group\"]==0][\"Y\"], Dat[Dat[\"Group\"]==5][\"Y\"])"
   ]
  },
  {
   "cell_type": "code",
   "execution_count": 18,
   "metadata": {},
   "outputs": [
    {
     "data": {
      "text/plain": [
       "TtestResult(statistic=-1.6762576764168238, pvalue=0.10666807353971323, df=24.0)"
      ]
     },
     "execution_count": 18,
     "metadata": {},
     "output_type": "execute_result"
    }
   ],
   "source": [
    "ttest_ind(Dat[Dat[\"Group\"]==0][\"Y\"], Dat[Dat[\"Group\"]==5][\"Y\"])"
   ]
  },
  {
   "cell_type": "markdown",
   "metadata": {},
   "source": [
    "We have slight evidence against the hypothesis of equal means"
   ]
  },
  {
   "cell_type": "markdown",
   "metadata": {},
   "source": [
    "### Comparing Group 0 and Group 4"
   ]
  },
  {
   "cell_type": "code",
   "execution_count": 19,
   "metadata": {},
   "outputs": [
    {
     "data": {
      "text/html": [
       "<div>\n",
       "<style scoped>\n",
       "    .dataframe tbody tr th:only-of-type {\n",
       "        vertical-align: middle;\n",
       "    }\n",
       "\n",
       "    .dataframe tbody tr th {\n",
       "        vertical-align: top;\n",
       "    }\n",
       "\n",
       "    .dataframe thead th {\n",
       "        text-align: right;\n",
       "    }\n",
       "</style>\n",
       "<table border=\"1\" class=\"dataframe\">\n",
       "  <thead>\n",
       "    <tr style=\"text-align: right;\">\n",
       "      <th></th>\n",
       "      <th>T</th>\n",
       "      <th>dof</th>\n",
       "      <th>alternative</th>\n",
       "      <th>p-val</th>\n",
       "      <th>CI95%</th>\n",
       "      <th>cohen-d</th>\n",
       "      <th>BF10</th>\n",
       "      <th>power</th>\n",
       "    </tr>\n",
       "  </thead>\n",
       "  <tbody>\n",
       "    <tr>\n",
       "      <th>T-test</th>\n",
       "      <td>0.795599</td>\n",
       "      <td>22</td>\n",
       "      <td>two-sided</td>\n",
       "      <td>0.434766</td>\n",
       "      <td>[-3.32, 7.46]</td>\n",
       "      <td>0.324802</td>\n",
       "      <td>0.47</td>\n",
       "      <td>0.118586</td>\n",
       "    </tr>\n",
       "  </tbody>\n",
       "</table>\n",
       "</div>"
      ],
      "text/plain": [
       "               T  dof alternative     p-val          CI95%   cohen-d  BF10  \\\n",
       "T-test  0.795599   22   two-sided  0.434766  [-3.32, 7.46]  0.324802  0.47   \n",
       "\n",
       "           power  \n",
       "T-test  0.118586  "
      ]
     },
     "execution_count": 19,
     "metadata": {},
     "output_type": "execute_result"
    }
   ],
   "source": [
    "pingouin.ttest(Dat[Dat[\"Group\"]==0][\"Y\"], Dat[Dat[\"Group\"]==4][\"Y\"])"
   ]
  },
  {
   "cell_type": "code",
   "execution_count": 20,
   "metadata": {},
   "outputs": [
    {
     "data": {
      "text/plain": [
       "TtestResult(statistic=0.7955985692871433, pvalue=0.4347661300165786, df=22.0)"
      ]
     },
     "execution_count": 20,
     "metadata": {},
     "output_type": "execute_result"
    }
   ],
   "source": [
    "ttest_ind(Dat[Dat[\"Group\"]==0][\"Y\"], Dat[Dat[\"Group\"]==4][\"Y\"])"
   ]
  },
  {
   "cell_type": "markdown",
   "metadata": {},
   "source": [
    "We cannot reject the hypothesis of equal means."
   ]
  },
  {
   "cell_type": "markdown",
   "metadata": {},
   "source": [
    "### Comparing Group 0 and Group 5"
   ]
  },
  {
   "cell_type": "markdown",
   "metadata": {},
   "source": [
    "But, before we concluded that these groups have different variance. We can take this into account"
   ]
  },
  {
   "cell_type": "code",
   "execution_count": 21,
   "metadata": {},
   "outputs": [
    {
     "data": {
      "text/html": [
       "<div>\n",
       "<style scoped>\n",
       "    .dataframe tbody tr th:only-of-type {\n",
       "        vertical-align: middle;\n",
       "    }\n",
       "\n",
       "    .dataframe tbody tr th {\n",
       "        vertical-align: top;\n",
       "    }\n",
       "\n",
       "    .dataframe thead th {\n",
       "        text-align: right;\n",
       "    }\n",
       "</style>\n",
       "<table border=\"1\" class=\"dataframe\">\n",
       "  <thead>\n",
       "    <tr style=\"text-align: right;\">\n",
       "      <th></th>\n",
       "      <th>T</th>\n",
       "      <th>dof</th>\n",
       "      <th>alternative</th>\n",
       "      <th>p-val</th>\n",
       "      <th>CI95%</th>\n",
       "      <th>cohen-d</th>\n",
       "      <th>BF10</th>\n",
       "      <th>power</th>\n",
       "    </tr>\n",
       "  </thead>\n",
       "  <tbody>\n",
       "    <tr>\n",
       "      <th>T-test</th>\n",
       "      <td>0.795599</td>\n",
       "      <td>11.516345</td>\n",
       "      <td>two-sided</td>\n",
       "      <td>0.442356</td>\n",
       "      <td>[-3.62, 7.76]</td>\n",
       "      <td>0.324802</td>\n",
       "      <td>0.47</td>\n",
       "      <td>0.118586</td>\n",
       "    </tr>\n",
       "  </tbody>\n",
       "</table>\n",
       "</div>"
      ],
      "text/plain": [
       "               T        dof alternative     p-val          CI95%   cohen-d  \\\n",
       "T-test  0.795599  11.516345   two-sided  0.442356  [-3.62, 7.76]  0.324802   \n",
       "\n",
       "        BF10     power  \n",
       "T-test  0.47  0.118586  "
      ]
     },
     "execution_count": 21,
     "metadata": {},
     "output_type": "execute_result"
    }
   ],
   "source": [
    "pingouin.ttest(Dat[Dat[\"Group\"]==0][\"Y\"], Dat[Dat[\"Group\"]==4][\"Y\"], correction=True)"
   ]
  },
  {
   "cell_type": "code",
   "execution_count": 22,
   "metadata": {},
   "outputs": [
    {
     "data": {
      "text/plain": [
       "TtestResult(statistic=0.7955985692871433, pvalue=0.4423556292510572, df=11.51634521273693)"
      ]
     },
     "execution_count": 22,
     "metadata": {},
     "output_type": "execute_result"
    }
   ],
   "source": [
    "ttest_ind(Dat[Dat[\"Group\"]==0][\"Y\"], Dat[Dat[\"Group\"]==4][\"Y\"], equal_var=False)"
   ]
  },
  {
   "cell_type": "markdown",
   "metadata": {},
   "source": [
    "---"
   ]
  },
  {
   "cell_type": "markdown",
   "metadata": {},
   "source": [
    "## One-way ANOVA"
   ]
  },
  {
   "cell_type": "markdown",
   "metadata": {},
   "source": [
    "### By hand"
   ]
  },
  {
   "cell_type": "code",
   "execution_count": 23,
   "metadata": {},
   "outputs": [],
   "source": [
    "ntot = sum(DatGroup[\"Y\"][\"count\"])\n",
    "nBar = ntot / J\n",
    "\n",
    "dfB = J - 1\n",
    "dfW = ntot - J\n",
    "\n",
    "S2Bar = DatGroup[\"Y\"][\"var\"] / DatGroup[\"Y\"][\"count\"]\n",
    "Phi2 = 1/sum(1 / S2Bar)\n",
    "\n",
    "HatMu = Phi2 * sum(DatGroup[\"Y\"][\"mean\"] / S2Bar)"
   ]
  },
  {
   "cell_type": "code",
   "execution_count": 24,
   "metadata": {},
   "outputs": [],
   "source": [
    "SSB = sum(DatGroup[\"Y\"][\"count\"] * (DatGroup[\"Y\"][\"mean\"] - HatMu)**2)\n",
    "SSW = sum((DatGroup[\"Y\"][\"count\"]-1) * DatGroup[\"Y\"][\"var\"])\n",
    "\n",
    "MSB = SSB / dfB\n",
    "MSW = SSW / dfW\n",
    "\n",
    "FAnova = MSB / MSW\n",
    "\n",
    "PValue = f.sf(FAnova, dfB, dfW)"
   ]
  },
  {
   "cell_type": "code",
   "execution_count": 25,
   "metadata": {},
   "outputs": [],
   "source": [
    "AnovaTable = pd.DataFrame(\n",
    "    {\"df\":[dfB, dfW], \"SS\":[SSB, SSW], \"MS\":[MSB, MSW], \"F\":[FAnova, np.nan], \"PValue\":[PValue, np.nan]},\n",
    "    index=[\"Group\", \"Within\"]\n",
    ")"
   ]
  },
  {
   "cell_type": "code",
   "execution_count": 26,
   "metadata": {},
   "outputs": [
    {
     "data": {
      "text/html": [
       "<div>\n",
       "<style scoped>\n",
       "    .dataframe tbody tr th:only-of-type {\n",
       "        vertical-align: middle;\n",
       "    }\n",
       "\n",
       "    .dataframe tbody tr th {\n",
       "        vertical-align: top;\n",
       "    }\n",
       "\n",
       "    .dataframe thead th {\n",
       "        text-align: right;\n",
       "    }\n",
       "</style>\n",
       "<table border=\"1\" class=\"dataframe\">\n",
       "  <thead>\n",
       "    <tr style=\"text-align: right;\">\n",
       "      <th></th>\n",
       "      <th>df</th>\n",
       "      <th>SS</th>\n",
       "      <th>MS</th>\n",
       "      <th>F</th>\n",
       "      <th>PValue</th>\n",
       "    </tr>\n",
       "  </thead>\n",
       "  <tbody>\n",
       "    <tr>\n",
       "      <th>Group</th>\n",
       "      <td>5</td>\n",
       "      <td>152.908835</td>\n",
       "      <td>30.581767</td>\n",
       "      <td>1.604467</td>\n",
       "      <td>0.171163</td>\n",
       "    </tr>\n",
       "    <tr>\n",
       "      <th>Within</th>\n",
       "      <td>66</td>\n",
       "      <td>1257.985860</td>\n",
       "      <td>19.060392</td>\n",
       "      <td>NaN</td>\n",
       "      <td>NaN</td>\n",
       "    </tr>\n",
       "  </tbody>\n",
       "</table>\n",
       "</div>"
      ],
      "text/plain": [
       "        df           SS         MS         F    PValue\n",
       "Group    5   152.908835  30.581767  1.604467  0.171163\n",
       "Within  66  1257.985860  19.060392       NaN       NaN"
      ]
     },
     "execution_count": 26,
     "metadata": {},
     "output_type": "execute_result"
    }
   ],
   "source": [
    "AnovaTable"
   ]
  },
  {
   "cell_type": "markdown",
   "metadata": {},
   "source": [
    "In this case, we do not reject the hypothesis of equal mean in the groups.\n",
    "\n",
    "The common mean can be estimated by"
   ]
  },
  {
   "cell_type": "code",
   "execution_count": 27,
   "metadata": {},
   "outputs": [
    {
     "data": {
      "text/plain": [
       "-9.315701923151291"
      ]
     },
     "execution_count": 27,
     "metadata": {},
     "output_type": "execute_result"
    }
   ],
   "source": [
    "HatMu"
   ]
  },
  {
   "cell_type": "markdown",
   "metadata": {},
   "source": [
    "The intra-group variance can be estimated by"
   ]
  },
  {
   "cell_type": "code",
   "execution_count": 28,
   "metadata": {},
   "outputs": [
    {
     "data": {
      "text/plain": [
       "19.060391825730775"
      ]
     },
     "execution_count": 28,
     "metadata": {},
     "output_type": "execute_result"
    }
   ],
   "source": [
    "MSW"
   ]
  },
  {
   "cell_type": "markdown",
   "metadata": {},
   "source": [
    "However, if we would reject the hypothesis of same mean for the groups, then the group of each mean would be estimated by"
   ]
  },
  {
   "cell_type": "code",
   "execution_count": 29,
   "metadata": {},
   "outputs": [
    {
     "data": {
      "text/plain": [
       "0   -10.148234\n",
       "1    -8.706604\n",
       "2    -8.423547\n",
       "3    -7.731961\n",
       "4   -12.217278\n",
       "5    -9.041636\n",
       "Name: mean, dtype: float64"
      ]
     },
     "execution_count": 29,
     "metadata": {},
     "output_type": "execute_result"
    }
   ],
   "source": [
    "DatGroup[\"Y\"][\"mean\"]"
   ]
  },
  {
   "cell_type": "markdown",
   "metadata": {},
   "source": [
    "And the inter-group variance would be estimated by"
   ]
  },
  {
   "cell_type": "code",
   "execution_count": 30,
   "metadata": {},
   "outputs": [],
   "source": [
    "HatTau2 = (MSB - MSW) / nBar"
   ]
  },
  {
   "cell_type": "markdown",
   "metadata": {},
   "source": [
    "We can compare these estimations with their real values"
   ]
  },
  {
   "cell_type": "code",
   "execution_count": 31,
   "metadata": {},
   "outputs": [
    {
     "data": {
      "text/plain": [
       "(-9.315701923151291, -9)"
      ]
     },
     "execution_count": 31,
     "metadata": {},
     "output_type": "execute_result"
    }
   ],
   "source": [
    "HatMu, MU"
   ]
  },
  {
   "cell_type": "code",
   "execution_count": 32,
   "metadata": {},
   "outputs": [
    {
     "data": {
      "text/plain": [
       "(0.9798543751756985, 1)"
      ]
     },
     "execution_count": 32,
     "metadata": {},
     "output_type": "execute_result"
    }
   ],
   "source": [
    "np.sqrt(HatTau2), TAU"
   ]
  },
  {
   "cell_type": "code",
   "execution_count": 33,
   "metadata": {},
   "outputs": [
    {
     "data": {
      "text/plain": [
       "(0   -10.148234\n",
       " 1    -8.706604\n",
       " 2    -8.423547\n",
       " 3    -7.731961\n",
       " 4   -12.217278\n",
       " 5    -9.041636\n",
       " Name: mean, dtype: float64,\n",
       " array([-10.13383833,  -8.61568081,  -7.50344622,  -9.3553823 ,\n",
       "         -9.78753354,  -9.45943891]))"
      ]
     },
     "execution_count": 33,
     "metadata": {},
     "output_type": "execute_result"
    }
   ],
   "source": [
    "DatGroup[\"Y\"][\"mean\"], THETA"
   ]
  },
  {
   "cell_type": "code",
   "execution_count": 34,
   "metadata": {},
   "outputs": [
    {
     "data": {
      "text/plain": [
       "(19.060391825730775,\n",
       " array([  3.15964669,   9.23957758,   6.53127852,   7.92691449,\n",
       "        125.96344253,   6.51834957]))"
      ]
     },
     "execution_count": 34,
     "metadata": {},
     "output_type": "execute_result"
    }
   ],
   "source": [
    "MSW, SIGMA2"
   ]
  },
  {
   "cell_type": "markdown",
   "metadata": {},
   "source": [
    "### Using pingouin"
   ]
  },
  {
   "cell_type": "code",
   "execution_count": 35,
   "metadata": {},
   "outputs": [
    {
     "data": {
      "text/html": [
       "<div>\n",
       "<style scoped>\n",
       "    .dataframe tbody tr th:only-of-type {\n",
       "        vertical-align: middle;\n",
       "    }\n",
       "\n",
       "    .dataframe tbody tr th {\n",
       "        vertical-align: top;\n",
       "    }\n",
       "\n",
       "    .dataframe thead th {\n",
       "        text-align: right;\n",
       "    }\n",
       "</style>\n",
       "<table border=\"1\" class=\"dataframe\">\n",
       "  <thead>\n",
       "    <tr style=\"text-align: right;\">\n",
       "      <th></th>\n",
       "      <th>Source</th>\n",
       "      <th>SS</th>\n",
       "      <th>DF</th>\n",
       "      <th>MS</th>\n",
       "      <th>F</th>\n",
       "      <th>p-unc</th>\n",
       "      <th>np2</th>\n",
       "    </tr>\n",
       "  </thead>\n",
       "  <tbody>\n",
       "    <tr>\n",
       "      <th>0</th>\n",
       "      <td>Group</td>\n",
       "      <td>152.451747</td>\n",
       "      <td>5</td>\n",
       "      <td>30.490349</td>\n",
       "      <td>1.599671</td>\n",
       "      <td>0.172473</td>\n",
       "      <td>0.108088</td>\n",
       "    </tr>\n",
       "    <tr>\n",
       "      <th>1</th>\n",
       "      <td>Within</td>\n",
       "      <td>1257.985860</td>\n",
       "      <td>66</td>\n",
       "      <td>19.060392</td>\n",
       "      <td>NaN</td>\n",
       "      <td>NaN</td>\n",
       "      <td>NaN</td>\n",
       "    </tr>\n",
       "  </tbody>\n",
       "</table>\n",
       "</div>"
      ],
      "text/plain": [
       "   Source           SS  DF         MS         F     p-unc       np2\n",
       "0   Group   152.451747   5  30.490349  1.599671  0.172473  0.108088\n",
       "1  Within  1257.985860  66  19.060392       NaN       NaN       NaN"
      ]
     },
     "execution_count": 35,
     "metadata": {},
     "output_type": "execute_result"
    }
   ],
   "source": [
    "pingouin.anova(dv=\"Y\", between=\"Group\", data=Dat, detailed=True)"
   ]
  },
  {
   "cell_type": "markdown",
   "metadata": {},
   "source": [
    "### Using scipy"
   ]
  },
  {
   "cell_type": "markdown",
   "metadata": {},
   "source": [
    "Testing equal mean for all the groups"
   ]
  },
  {
   "cell_type": "code",
   "execution_count": 36,
   "metadata": {},
   "outputs": [
    {
     "data": {
      "text/plain": [
       "F_onewayResult(statistic=1.599670646695831, pvalue=0.17247260234129153)"
      ]
     },
     "execution_count": 36,
     "metadata": {},
     "output_type": "execute_result"
    }
   ],
   "source": [
    "f_oneway(\n",
    "    Dat[Dat[\"Group\"]==0][\"Y\"],\n",
    "    Dat[Dat[\"Group\"]==1][\"Y\"],\n",
    "    Dat[Dat[\"Group\"]==2][\"Y\"],\n",
    "    Dat[Dat[\"Group\"]==3][\"Y\"],\n",
    "    Dat[Dat[\"Group\"]==4][\"Y\"],\n",
    "    Dat[Dat[\"Group\"]==5][\"Y\"]\n",
    ")"
   ]
  }
 ],
 "metadata": {
  "kernelspec": {
   "display_name": "Python 3",
   "language": "python",
   "name": "python3"
  },
  "language_info": {
   "codemirror_mode": {
    "name": "ipython",
    "version": 3
   },
   "file_extension": ".py",
   "mimetype": "text/x-python",
   "name": "python",
   "nbconvert_exporter": "python",
   "pygments_lexer": "ipython3",
   "version": "3.12.5"
  }
 },
 "nbformat": 4,
 "nbformat_minor": 2
}
