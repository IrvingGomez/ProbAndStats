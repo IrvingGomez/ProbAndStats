{
 "cells": [
  {
   "cell_type": "code",
   "execution_count": 1,
   "metadata": {},
   "outputs": [],
   "source": [
    "import numpy as np\n",
    "import pandas as pd\n",
    "\n",
    "import seaborn as sns\n",
    "import matplotlib.pyplot as plt\n",
    "\n",
    "from scipy.stats import norm, t, chi2\n",
    "from scipy.stats import iqr, median_abs_deviation"
   ]
  },
  {
   "cell_type": "code",
   "execution_count": 2,
   "metadata": {},
   "outputs": [],
   "source": [
    "ALPHA = 0.05"
   ]
  },
  {
   "cell_type": "markdown",
   "metadata": {},
   "source": [
    "---"
   ]
  },
  {
   "cell_type": "code",
   "execution_count": 22,
   "metadata": {},
   "outputs": [],
   "source": [
    "def CI_mu_mean(hat_mu, hat_sigma, n, alpha=ALPHA, dist=\"norm\"):\n",
    "    scale = hat_sigma / np.sqrt(n)\n",
    "    if dist==\"norm\":\n",
    "        return norm.ppf(alpha/2, hat_mu, scale), norm.ppf(1-alpha/2, hat_mu, scale)\n",
    "    else:\n",
    "        return t.ppf(alpha/2, n-1, hat_mu, scale), t.ppf(1-alpha/2, n-1, hat_mu, scale)\n",
    "    \n",
    "def CI_mu_median(hat_mu, hat_sigma, n, alpha=ALPHA):\n",
    "    scale = hat_sigma * np.sqrt(np.pi/(2*n))\n",
    "    return norm.ppf(alpha/2, hat_mu, scale), norm.ppf(1-alpha/2, hat_mu, scale)\n",
    "\n",
    "def CI_sigma(hat_sigma, n, alpha=ALPHA):\n",
    "    return hat_sigma * np.sqrt(n-1) / np.sqrt(chi2.ppf(1-alpha/2, n-1)), hat_sigma * np.sqrt(n-1) / np.sqrt(chi2.ppf(alpha/2, n-1))\n",
    "\n",
    "def PI_Y_mean(hat_mu, hat_sigma, n, alpha=ALPHA, dist=\"norm\"):\n",
    "    scale = np.sqrt(hat_sigma**2 + hat_sigma**2/n)\n",
    "    if dist==\"norm\":\n",
    "        return norm.ppf(alpha/2, hat_mu, scale), norm.ppf(1-alpha/2, hat_mu, scale)\n",
    "    else:\n",
    "        return t.ppf(alpha/2, n-1, hat_mu, scale), t.ppf(1-alpha/2, n-1, hat_mu, scale)\n",
    "    \n",
    "def PI_Y_median(hat_mu, hat_sigma, n, alpha=ALPHA):\n",
    "    scale = np.sqrt(hat_sigma**2 + np.pi*hat_sigma**2/(2*n))\n",
    "    return norm.ppf(alpha/2, hat_mu, scale), norm.ppf(1-alpha/2, hat_mu, scale)\n",
    "\n",
    "def PI_Y_IQR(x, alpha=ALPHA):\n",
    "    q1, q3 = np.quantile(x, [0.25, 0.75])\n",
    "    iqr = q3-q1\n",
    "    delta = 0.5 * (norm.ppf(1-alpha/2)/norm.ppf(0.75)-1)\n",
    "\n",
    "    return q1 - delta * iqr, q3 + delta * iqr"
   ]
  },
  {
   "cell_type": "markdown",
   "metadata": {},
   "source": [
    "---"
   ]
  },
  {
   "cell_type": "code",
   "execution_count": 4,
   "metadata": {},
   "outputs": [],
   "source": [
    "X = np.array([129.79, 156.82, 175.14, 121.88, 123.54, 140.8, 116.35, 129.7, 191.8, 160.34, 132.06,146.85, 167.49, 145.69, 99.9])\n",
    "N = len(X)\n",
    "\n",
    "XBar = X.mean()\n",
    "XTilde = np.median(X)\n",
    "\n",
    "Sigma1 = np.std(X, ddof=1)\n",
    "Sigma2 = median_abs_deviation(X) / norm.ppf(0.75)\n",
    "Sigma3 = iqr(X) / (2*norm.ppf(0.75))\n",
    "\n",
    "SigmaMLE = np.std(X)"
   ]
  },
  {
   "cell_type": "markdown",
   "metadata": {},
   "source": [
    "Point estimators"
   ]
  },
  {
   "cell_type": "code",
   "execution_count": 5,
   "metadata": {},
   "outputs": [
    {
     "data": {
      "text/plain": [
       "(142.5433, 140.8)"
      ]
     },
     "execution_count": 5,
     "metadata": {},
     "output_type": "execute_result"
    }
   ],
   "source": [
    "round(XBar, 4), round(XTilde,4)"
   ]
  },
  {
   "cell_type": "code",
   "execution_count": 6,
   "metadata": {},
   "outputs": [
    {
     "data": {
      "text/plain": [
       "(24.4851, 25.5897, 23.692, 23.6548)"
      ]
     },
     "execution_count": 6,
     "metadata": {},
     "output_type": "execute_result"
    }
   ],
   "source": [
    "round(Sigma1, 4), round(Sigma2, 4), round(Sigma3, 4), round(SigmaMLE, 4)"
   ]
  },
  {
   "cell_type": "markdown",
   "metadata": {},
   "source": [
    "Confidence intervals for the mean"
   ]
  },
  {
   "cell_type": "code",
   "execution_count": 13,
   "metadata": {},
   "outputs": [],
   "source": [
    "LowMu1, UppMu1 = CI_mu_mean(XBar, Sigma1, N, dist=\"t\")\n",
    "LowMu2, UppMu2 = CI_mu_mean(XBar, Sigma2, N)\n",
    "LowMu3, UppMu3 = CI_mu_mean(XBar, Sigma3, N)\n",
    "\n",
    "LowMu4, UppMu4 = CI_mu_median(XTilde, Sigma1, N)"
   ]
  },
  {
   "cell_type": "code",
   "execution_count": 8,
   "metadata": {},
   "outputs": [
    {
     "data": {
      "text/plain": [
       "(128.9839, 156.1027)"
      ]
     },
     "execution_count": 8,
     "metadata": {},
     "output_type": "execute_result"
    }
   ],
   "source": [
    "round(LowMu1, 4), round(UppMu1, 4)"
   ]
  },
  {
   "cell_type": "code",
   "execution_count": 14,
   "metadata": {},
   "outputs": [
    {
     "data": {
      "text/plain": [
       "(129.5934, 155.4933)"
      ]
     },
     "execution_count": 14,
     "metadata": {},
     "output_type": "execute_result"
    }
   ],
   "source": [
    "round(LowMu2, 4), round(UppMu2, 4)"
   ]
  },
  {
   "cell_type": "code",
   "execution_count": 15,
   "metadata": {},
   "outputs": [
    {
     "data": {
      "text/plain": [
       "(130.5538, 154.5329)"
      ]
     },
     "execution_count": 15,
     "metadata": {},
     "output_type": "execute_result"
    }
   ],
   "source": [
    "round(LowMu3, 4), round(UppMu3, 4)"
   ]
  },
  {
   "cell_type": "code",
   "execution_count": 12,
   "metadata": {},
   "outputs": [
    {
     "data": {
      "text/plain": [
       "(125.2703, 156.3297)"
      ]
     },
     "execution_count": 12,
     "metadata": {},
     "output_type": "execute_result"
    }
   ],
   "source": [
    "round(LowMu4, 4), round(UppMu4, 4)"
   ]
  },
  {
   "cell_type": "markdown",
   "metadata": {},
   "source": [
    "Confidence interval for the standard deviation"
   ]
  },
  {
   "cell_type": "code",
   "execution_count": 18,
   "metadata": {},
   "outputs": [
    {
     "data": {
      "text/plain": [
       "(17.9262, 38.6154)"
      ]
     },
     "execution_count": 18,
     "metadata": {},
     "output_type": "execute_result"
    }
   ],
   "source": [
    "LowSigma1, UppSigma1 = CI_sigma(Sigma1, N)\n",
    "\n",
    "round(LowSigma1, 4), round(UppSigma1, 4)"
   ]
  },
  {
   "cell_type": "markdown",
   "metadata": {},
   "source": [
    "Prediction intervals"
   ]
  },
  {
   "cell_type": "code",
   "execution_count": 23,
   "metadata": {},
   "outputs": [],
   "source": [
    "LowY1, UppY1 = PI_Y_mean(XBar, Sigma1, N, dist=\"t\")\n",
    "LowY2, UppY2 = PI_Y_mean(XBar, Sigma2, N)\n",
    "\n",
    "LowY4, UppY4 = PI_Y_median(XTilde, Sigma1, N)\n",
    "\n",
    "LowY7, UppY7 = PI_Y_IQR(X)"
   ]
  },
  {
   "cell_type": "code",
   "execution_count": 21,
   "metadata": {},
   "outputs": [
    {
     "data": {
      "text/plain": [
       "(88.3058, 196.7809)"
      ]
     },
     "execution_count": 21,
     "metadata": {},
     "output_type": "execute_result"
    }
   ],
   "source": [
    "round(LowY1, 4), round(UppY1, 4)"
   ]
  },
  {
   "cell_type": "code",
   "execution_count": 24,
   "metadata": {},
   "outputs": [
    {
     "data": {
      "text/plain": [
       "(96.1646, 189.0354)"
      ]
     },
     "execution_count": 24,
     "metadata": {},
     "output_type": "execute_result"
    }
   ],
   "source": [
    "round(LowY7, 4), round(UppY7, 4)"
   ]
  }
 ],
 "metadata": {
  "kernelspec": {
   "display_name": "Python 3",
   "language": "python",
   "name": "python3"
  },
  "language_info": {
   "codemirror_mode": {
    "name": "ipython",
    "version": 3
   },
   "file_extension": ".py",
   "mimetype": "text/x-python",
   "name": "python",
   "nbconvert_exporter": "python",
   "pygments_lexer": "ipython3",
   "version": "3.12.6"
  }
 },
 "nbformat": 4,
 "nbformat_minor": 2
}
