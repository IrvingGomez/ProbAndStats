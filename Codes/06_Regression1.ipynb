{
 "cells": [
  {
   "cell_type": "code",
   "execution_count": 1,
   "metadata": {},
   "outputs": [],
   "source": [
    "import numpy as np\n",
    "import pandas as pd\n",
    "\n",
    "import statsmodels.api as sm\n",
    "import statsmodels.formula.api as smf\n",
    "\n",
    "import seaborn as sns\n",
    "import matplotlib.pyplot as plt\n",
    "\n",
    "from scipy.stats import norm, uniform\n",
    "from statsmodels.stats import outliers_influence"
   ]
  },
  {
   "cell_type": "code",
   "execution_count": 2,
   "metadata": {},
   "outputs": [],
   "source": [
    "Beta0 = 10\n",
    "Beta1 = 2\n",
    "Sigma = 0.5\n",
    "N = 20\n",
    "\n",
    "np.random.seed(111)\n",
    "XSample = uniform.rvs(0, 1, size=N)\n",
    "XSample.sort()\n",
    "Epsilon = norm.rvs(0, Sigma, size=N)\n",
    "\n",
    "YSample = Beta0 + Beta1 * XSample + Epsilon"
   ]
  },
  {
   "cell_type": "code",
   "execution_count": 3,
   "metadata": {},
   "outputs": [],
   "source": [
    "Dat = pd.DataFrame({\"Y\": YSample, \"X\":XSample})"
   ]
  },
  {
   "cell_type": "code",
   "execution_count": 4,
   "metadata": {},
   "outputs": [
    {
     "data": {
      "text/plain": [
       "<Axes: xlabel='X', ylabel='Y'>"
      ]
     },
     "execution_count": 4,
     "metadata": {},
     "output_type": "execute_result"
    },
    {
     "data": {
      "image/png": "[encoded data removed]",
      "text/plain": [
       "<Figure size 640x480 with 1 Axes>"
      ]
     },
     "metadata": {},
     "output_type": "display_data"
    }
   ],
   "source": [
    "sns.scatterplot(data=Dat, x=\"X\", y=\"Y\")"
   ]
  },
  {
   "cell_type": "markdown",
   "metadata": {},
   "source": [
    "---"
   ]
  },
  {
   "cell_type": "markdown",
   "metadata": {},
   "source": [
    "## Regression using sm.OLS\n",
    "\n",
    "In this case, we need to add a constant to the x variable, otherwise it won't fit an intercept."
   ]
  },
  {
   "cell_type": "code",
   "execution_count": 5,
   "metadata": {},
   "outputs": [],
   "source": [
    "RegModel = sm.OLS(YSample, sm.add_constant(Dat[\"X\"]))\n",
    "RegModelFit = RegModel.fit()"
   ]
  },
  {
   "cell_type": "code",
   "execution_count": 6,
   "metadata": {},
   "outputs": [
    {
     "data": {
      "text/html": [
       "<table class=\"simpletable\">\n",
       "<tr>\n",
       "        <td>Model:</td>               <td>OLS</td>         <td>Adj. R-squared:</td>     <td>0.446</td> \n",
       "</tr>\n",
       "<tr>\n",
       "  <td>Dependent Variable:</td>         <td>y</td>               <td>AIC:</td>          <td>32.0033</td>\n",
       "</tr>\n",
       "<tr>\n",
       "         <td>Date:</td>        <td>2024-10-07 13:40</td>        <td>BIC:</td>          <td>33.9947</td>\n",
       "</tr>\n",
       "<tr>\n",
       "   <td>No. Observations:</td>         <td>20</td>          <td>Log-Likelihood:</td>    <td>-14.002</td>\n",
       "</tr>\n",
       "<tr>\n",
       "       <td>Df Model:</td>              <td>1</td>           <td>F-statistic:</td>       <td>16.27</td> \n",
       "</tr>\n",
       "<tr>\n",
       "     <td>Df Residuals:</td>           <td>18</td>        <td>Prob (F-statistic):</td> <td>0.000779</td>\n",
       "</tr>\n",
       "<tr>\n",
       "      <td>R-squared:</td>            <td>0.475</td>            <td>Scale:</td>         <td>0.26386</td>\n",
       "</tr>\n",
       "</table>\n",
       "<table class=\"simpletable\">\n",
       "<tr>\n",
       "    <td></td>     <th>Coef.</th>  <th>Std.Err.</th>    <th>t</th>     <th>P>|t|</th> <th>[0.055</th> <th>0.945]</th> \n",
       "</tr>\n",
       "<tr>\n",
       "  <th>const</th> <td>10.1769</td>  <td>0.1997</td>  <td>50.9693</td> <td>0.0000</td> <td>9.8412</td> <td>10.5125</td>\n",
       "</tr>\n",
       "<tr>\n",
       "  <th>X</th>     <td>1.6711</td>   <td>0.4143</td>  <td>4.0336</td>  <td>0.0008</td> <td>0.9746</td> <td>2.3676</td> \n",
       "</tr>\n",
       "</table>\n",
       "<table class=\"simpletable\">\n",
       "<tr>\n",
       "     <td>Omnibus:</td>    <td>1.246</td>  <td>Durbin-Watson:</td>   <td>1.798</td>\n",
       "</tr>\n",
       "<tr>\n",
       "  <td>Prob(Omnibus):</td> <td>0.536</td> <td>Jarque-Bera (JB):</td> <td>0.464</td>\n",
       "</tr>\n",
       "<tr>\n",
       "       <td>Skew:</td>     <td>0.367</td>     <td>Prob(JB):</td>     <td>0.793</td>\n",
       "</tr>\n",
       "<tr>\n",
       "     <td>Kurtosis:</td>   <td>3.136</td>  <td>Condition No.:</td>     <td>4</td>  \n",
       "</tr>\n",
       "</table><br/>\n",
       "Notes:<br/>\n",
       "[1] Standard Errors assume that the covariance matrix of the errors is correctly specified."
      ],
      "text/latex": [
       "\\begin{table}\n",
       "\\caption{Results: Ordinary least squares}\n",
       "\\label{}\n",
       "\\begin{center}\n",
       "\\begin{tabular}{llll}\n",
       "\\hline\n",
       "Model:              & OLS              & Adj. R-squared:     & 0.446     \\\\\n",
       "Dependent Variable: & y                & AIC:                & 32.0033   \\\\\n",
       "Date:               & 2024-10-07 13:40 & BIC:                & 33.9947   \\\\\n",
       "No. Observations:   & 20               & Log-Likelihood:     & -14.002   \\\\\n",
       "Df Model:           & 1                & F-statistic:        & 16.27     \\\\\n",
       "Df Residuals:       & 18               & Prob (F-statistic): & 0.000779  \\\\\n",
       "R-squared:          & 0.475            & Scale:              & 0.26386   \\\\\n",
       "\\hline\n",
       "\\end{tabular}\n",
       "\\end{center}\n",
       "\n",
       "\\begin{center}\n",
       "\\begin{tabular}{lrrrrrr}\n",
       "\\hline\n",
       "      &   Coef. & Std.Err. &       t & P$> |$t$|$ & [0.055 &  0.945]  \\\\\n",
       "\\hline\n",
       "const & 10.1769 &   0.1997 & 50.9693 &      0.0000 & 9.8412 & 10.5125  \\\\\n",
       "X     &  1.6711 &   0.4143 &  4.0336 &      0.0008 & 0.9746 &  2.3676  \\\\\n",
       "\\hline\n",
       "\\end{tabular}\n",
       "\\end{center}\n",
       "\n",
       "\\begin{center}\n",
       "\\begin{tabular}{llll}\n",
       "\\hline\n",
       "Omnibus:       & 1.246 & Durbin-Watson:    & 1.798  \\\\\n",
       "Prob(Omnibus): & 0.536 & Jarque-Bera (JB): & 0.464  \\\\\n",
       "Skew:          & 0.367 & Prob(JB):         & 0.793  \\\\\n",
       "Kurtosis:      & 3.136 & Condition No.:    & 4      \\\\\n",
       "\\hline\n",
       "\\end{tabular}\n",
       "\\end{center}\n",
       "\\end{table}\n",
       "\\bigskip\n",
       "Notes: \\newline \n",
       "[1] Standard Errors assume that the covariance matrix of the errors is correctly specified."
      ],
      "text/plain": [
       "<class 'statsmodels.iolib.summary2.Summary'>\n",
       "\"\"\"\n",
       "                 Results: Ordinary least squares\n",
       "=================================================================\n",
       "Model:              OLS              Adj. R-squared:     0.446   \n",
       "Dependent Variable: y                AIC:                32.0033 \n",
       "Date:               2024-10-07 13:40 BIC:                33.9947 \n",
       "No. Observations:   20               Log-Likelihood:     -14.002 \n",
       "Df Model:           1                F-statistic:        16.27   \n",
       "Df Residuals:       18               Prob (F-statistic): 0.000779\n",
       "R-squared:          0.475            Scale:              0.26386 \n",
       "-------------------------------------------------------------------\n",
       "            Coef.    Std.Err.      t      P>|t|    [0.055    0.945]\n",
       "-------------------------------------------------------------------\n",
       "const      10.1769     0.1997   50.9693   0.0000   9.8412   10.5125\n",
       "X           1.6711     0.4143    4.0336   0.0008   0.9746    2.3676\n",
       "-----------------------------------------------------------------\n",
       "Omnibus:              1.246        Durbin-Watson:           1.798\n",
       "Prob(Omnibus):        0.536        Jarque-Bera (JB):        0.464\n",
       "Skew:                 0.367        Prob(JB):                0.793\n",
       "Kurtosis:             3.136        Condition No.:           4    \n",
       "=================================================================\n",
       "Notes:\n",
       "[1] Standard Errors assume that the covariance matrix of the\n",
       "errors is correctly specified.\n",
       "\"\"\""
      ]
     },
     "execution_count": 6,
     "metadata": {},
     "output_type": "execute_result"
    }
   ],
   "source": [
    "RegModelFit.summary2(alpha=0.11)"
   ]
  },
  {
   "cell_type": "code",
   "execution_count": 7,
   "metadata": {},
   "outputs": [
    {
     "data": {
      "text/plain": [
       "0.5136689761668786"
      ]
     },
     "execution_count": 7,
     "metadata": {},
     "output_type": "execute_result"
    }
   ],
   "source": [
    "HatSigma = np.sqrt(RegModelFit.mse_resid)\n",
    "HatSigma"
   ]
  },
  {
   "cell_type": "code",
   "execution_count": 8,
   "metadata": {},
   "outputs": [
    {
     "data": {
      "text/plain": [
       "['HC0_se', 'HC1_se', 'HC2_se', 'HC3_se', '_HCCM']"
      ]
     },
     "execution_count": 8,
     "metadata": {},
     "output_type": "execute_result"
    }
   ],
   "source": [
    "# List with all the attributes of the model\n",
    "dir(RegModelFit)[:5]"
   ]
  },
  {
   "cell_type": "markdown",
   "metadata": {},
   "source": [
    "Get confidence and prediction intervals"
   ]
  },
  {
   "cell_type": "code",
   "execution_count": 9,
   "metadata": {},
   "outputs": [],
   "source": [
    "PredictionTable = RegModelFit.get_prediction().summary_frame(alpha=0.11)"
   ]
  },
  {
   "cell_type": "code",
   "execution_count": 10,
   "metadata": {},
   "outputs": [
    {
     "data": {
      "text/html": [
       "<div>\n",
       "<style scoped>\n",
       "    .dataframe tbody tr th:only-of-type {\n",
       "        vertical-align: middle;\n",
       "    }\n",
       "\n",
       "    .dataframe tbody tr th {\n",
       "        vertical-align: top;\n",
       "    }\n",
       "\n",
       "    .dataframe thead th {\n",
       "        text-align: right;\n",
       "    }\n",
       "</style>\n",
       "<table border=\"1\" class=\"dataframe\">\n",
       "  <thead>\n",
       "    <tr style=\"text-align: right;\">\n",
       "      <th></th>\n",
       "      <th>mean</th>\n",
       "      <th>mean_se</th>\n",
       "      <th>mean_ci_lower</th>\n",
       "      <th>mean_ci_upper</th>\n",
       "      <th>obs_ci_lower</th>\n",
       "      <th>obs_ci_upper</th>\n",
       "    </tr>\n",
       "  </thead>\n",
       "  <tbody>\n",
       "    <tr>\n",
       "      <th>0</th>\n",
       "      <td>10.214438</td>\n",
       "      <td>0.192124</td>\n",
       "      <td>9.891446</td>\n",
       "      <td>10.537430</td>\n",
       "      <td>9.292449</td>\n",
       "      <td>11.136427</td>\n",
       "    </tr>\n",
       "    <tr>\n",
       "      <th>1</th>\n",
       "      <td>10.300466</td>\n",
       "      <td>0.175491</td>\n",
       "      <td>10.005437</td>\n",
       "      <td>10.595495</td>\n",
       "      <td>9.387898</td>\n",
       "      <td>11.213035</td>\n",
       "    </tr>\n",
       "    <tr>\n",
       "      <th>2</th>\n",
       "      <td>10.312557</td>\n",
       "      <td>0.173236</td>\n",
       "      <td>10.021320</td>\n",
       "      <td>10.603795</td>\n",
       "      <td>9.401207</td>\n",
       "      <td>11.223907</td>\n",
       "    </tr>\n",
       "    <tr>\n",
       "      <th>3</th>\n",
       "      <td>10.374681</td>\n",
       "      <td>0.162028</td>\n",
       "      <td>10.102286</td>\n",
       "      <td>10.647077</td>\n",
       "      <td>9.469177</td>\n",
       "      <td>11.280186</td>\n",
       "    </tr>\n",
       "    <tr>\n",
       "      <th>4</th>\n",
       "      <td>10.426144</td>\n",
       "      <td>0.153296</td>\n",
       "      <td>10.168428</td>\n",
       "      <td>10.683860</td>\n",
       "      <td>9.524946</td>\n",
       "      <td>11.327342</td>\n",
       "    </tr>\n",
       "  </tbody>\n",
       "</table>\n",
       "</div>"
      ],
      "text/plain": [
       "        mean   mean_se  mean_ci_lower  mean_ci_upper  obs_ci_lower  \\\n",
       "0  10.214438  0.192124       9.891446      10.537430      9.292449   \n",
       "1  10.300466  0.175491      10.005437      10.595495      9.387898   \n",
       "2  10.312557  0.173236      10.021320      10.603795      9.401207   \n",
       "3  10.374681  0.162028      10.102286      10.647077      9.469177   \n",
       "4  10.426144  0.153296      10.168428      10.683860      9.524946   \n",
       "\n",
       "   obs_ci_upper  \n",
       "0     11.136427  \n",
       "1     11.213035  \n",
       "2     11.223907  \n",
       "3     11.280186  \n",
       "4     11.327342  "
      ]
     },
     "execution_count": 10,
     "metadata": {},
     "output_type": "execute_result"
    }
   ],
   "source": [
    "PredictionTable.head()"
   ]
  },
  {
   "cell_type": "code",
   "execution_count": 11,
   "metadata": {},
   "outputs": [
    {
     "data": {
      "image/png": "[encoded data removed]",
      "text/plain": [
       "<Figure size 600x500 with 1 Axes>"
      ]
     },
     "metadata": {},
     "output_type": "display_data"
    }
   ],
   "source": [
    "fig, ax = plt.subplots(figsize=(6, 5))\n",
    "\n",
    "# Scatterplot of the observations\n",
    "sns.scatterplot(\n",
    "    data=Dat,\n",
    "    x=\"X\",\n",
    "    y=\"Y\",\n",
    "    ax=ax,\n",
    "    label=\"Observations\"\n",
    ")\n",
    "\n",
    "# Plot predicted mean\n",
    "ax.plot(\n",
    "    XSample,\n",
    "    PredictionTable[\"mean\"],\n",
    "    color=\"k\",\n",
    "    label=\"Prediction\"\n",
    ")\n",
    "\n",
    "# Plot prediction interval\n",
    "ax.fill_between(\n",
    "    XSample,\n",
    "    PredictionTable[\"obs_ci_lower\"],\n",
    "    PredictionTable[\"obs_ci_upper\"],\n",
    "    color=\"rebeccapurple\",\n",
    "    alpha=0.5,\n",
    "    label=\"Prediction interval\"\n",
    ")\n",
    "\n",
    "# Plot confidence interval\n",
    "ax.fill_between(\n",
    "    XSample,\n",
    "    PredictionTable[\"mean_ci_lower\"],\n",
    "    PredictionTable[\"mean_ci_upper\"],\n",
    "    color=\"pink\",\n",
    "    alpha=0.5,\n",
    "    label=\"Confidence interval\"\n",
    ")\n",
    "\n",
    "ax.legend(frameon=False)\n",
    "ax.spines[['right', 'top']].set_visible(False)"
   ]
  },
  {
   "cell_type": "code",
   "execution_count": 12,
   "metadata": {},
   "outputs": [
    {
     "data": {
      "image/png": "[encoded data removed]",
      "text/plain": [
       "<Figure size 600x500 with 1 Axes>"
      ]
     },
     "metadata": {},
     "output_type": "display_data"
    }
   ],
   "source": [
    "fig, ax = plt.subplots(figsize=(6, 5))\n",
    "\n",
    "ax.scatter(YSample, PredictionTable[\"mean\"], color=\"k\")\n",
    "\n",
    "ax.errorbar(\n",
    "    YSample,\n",
    "    PredictionTable[\"mean\"],\n",
    "    yerr=PredictionTable[\"obs_ci_upper\"] - PredictionTable[\"mean\"],\n",
    "    fmt=\"o\",\n",
    "    color=\"k\"\n",
    ")\n",
    "\n",
    "ax.plot(\n",
    "    [YSample.min(), YSample.max()]\n",
    "    , [YSample.min(), YSample.max()]\n",
    "    , color='r'\n",
    "    , linestyle='--'\n",
    ")\n",
    "\n",
    "ax.set_xlabel(r\"$Y$\")\n",
    "ax.set_ylabel(r\"$\\hat{Y}$\")\n",
    "ax.spines[['right', 'top']].set_visible(False)"
   ]
  },
  {
   "cell_type": "markdown",
   "metadata": {},
   "source": [
    "---"
   ]
  },
  {
   "cell_type": "markdown",
   "metadata": {},
   "source": [
    "We can also get these intervals together with other statistics for outliers and influence analysis."
   ]
  },
  {
   "cell_type": "code",
   "execution_count": 13,
   "metadata": {},
   "outputs": [],
   "source": [
    "OutlierTable, OutlierData, OutlierNames = outliers_influence.summary_table(RegModelFit, alpha=0.11)"
   ]
  },
  {
   "cell_type": "code",
   "execution_count": 14,
   "metadata": {},
   "outputs": [],
   "source": [
    "df = pd.DataFrame.from_records(OutlierTable)\n",
    "header = df.iloc[0] # grab the first row for the header\n",
    "df = df[1:] # take the data less the header row\n",
    "df.columns = header"
   ]
  },
  {
   "cell_type": "code",
   "execution_count": 15,
   "metadata": {},
   "outputs": [
    {
     "data": {
      "text/html": [
       "<div>\n",
       "<style scoped>\n",
       "    .dataframe tbody tr th:only-of-type {\n",
       "        vertical-align: middle;\n",
       "    }\n",
       "\n",
       "    .dataframe tbody tr th {\n",
       "        vertical-align: top;\n",
       "    }\n",
       "\n",
       "    .dataframe thead th {\n",
       "        text-align: right;\n",
       "    }\n",
       "</style>\n",
       "<table border=\"1\" class=\"dataframe\">\n",
       "  <thead>\n",
       "    <tr style=\"text-align: right;\">\n",
       "      <th></th>\n",
       "      <th>Obs</th>\n",
       "      <th>Dep Var</th>\n",
       "      <th>Predicted</th>\n",
       "      <th>Std Error</th>\n",
       "      <th>Mean ci</th>\n",
       "      <th>Mean ci</th>\n",
       "      <th>Predict ci</th>\n",
       "      <th>Predict ci</th>\n",
       "      <th>Residual</th>\n",
       "      <th>Std Error</th>\n",
       "      <th>Student</th>\n",
       "      <th>Cook's</th>\n",
       "    </tr>\n",
       "  </thead>\n",
       "  <tbody>\n",
       "    <tr>\n",
       "      <th>1</th>\n",
       "      <td></td>\n",
       "      <td>Population</td>\n",
       "      <td>Value</td>\n",
       "      <td>Mean Predict</td>\n",
       "      <td>95% low</td>\n",
       "      <td>95% upp</td>\n",
       "      <td>95% low</td>\n",
       "      <td>95% upp</td>\n",
       "      <td></td>\n",
       "      <td>Residual</td>\n",
       "      <td>Residual</td>\n",
       "      <td>D</td>\n",
       "    </tr>\n",
       "    <tr>\n",
       "      <th>2</th>\n",
       "      <td>1.0</td>\n",
       "      <td>10.290958150459195</td>\n",
       "      <td>10.214438237142806</td>\n",
       "      <td>0.19212392563741335</td>\n",
       "      <td>9.891446296702268</td>\n",
       "      <td>10.537430177583344</td>\n",
       "      <td>9.292449472453823</td>\n",
       "      <td>11.13642700183179</td>\n",
       "      <td>0.07651991331638897</td>\n",
       "      <td>0.47638662268581694</td>\n",
       "      <td>0.16062565502989537</td>\n",
       "      <td>0.0020981842194241216</td>\n",
       "    </tr>\n",
       "    <tr>\n",
       "      <th>3</th>\n",
       "      <td>2.0</td>\n",
       "      <td>10.360251228980335</td>\n",
       "      <td>10.300466470452955</td>\n",
       "      <td>0.17549085953239374</td>\n",
       "      <td>10.005437451751144</td>\n",
       "      <td>10.595495489154766</td>\n",
       "      <td>9.387897782353628</td>\n",
       "      <td>11.213035158552282</td>\n",
       "      <td>0.05978475852738008</td>\n",
       "      <td>0.4827616133216382</td>\n",
       "      <td>0.12383908926816163</td>\n",
       "      <td>0.0010132790080957489</td>\n",
       "    </tr>\n",
       "    <tr>\n",
       "      <th>4</th>\n",
       "      <td>3.0</td>\n",
       "      <td>10.80390972659004</td>\n",
       "      <td>10.312557217558513</td>\n",
       "      <td>0.17323566126465537</td>\n",
       "      <td>10.02131955832512</td>\n",
       "      <td>10.603794876791907</td>\n",
       "      <td>9.401207195460023</td>\n",
       "      <td>11.223907239657004</td>\n",
       "      <td>0.49135250903152716</td>\n",
       "      <td>0.48357545713417555</td>\n",
       "      <td>1.0160823957928737</td>\n",
       "      <td>0.0662481801559318</td>\n",
       "    </tr>\n",
       "    <tr>\n",
       "      <th>5</th>\n",
       "      <td>4.0</td>\n",
       "      <td>10.394728729311534</td>\n",
       "      <td>10.37468143471091</td>\n",
       "      <td>0.16202803475923372</td>\n",
       "      <td>10.102285640282792</td>\n",
       "      <td>10.647077229139027</td>\n",
       "      <td>9.469176626636816</td>\n",
       "      <td>11.280186242785003</td>\n",
       "      <td>0.02004729460062471</td>\n",
       "      <td>0.48744510770792415</td>\n",
       "      <td>0.04112728650594437</td>\n",
       "      <td>9.344563393912305e-05</td>\n",
       "    </tr>\n",
       "  </tbody>\n",
       "</table>\n",
       "</div>"
      ],
      "text/plain": [
       "0  Obs             Dep Var           Predicted            Std Error  \\\n",
       "1               Population               Value         Mean Predict   \n",
       "2  1.0  10.290958150459195  10.214438237142806  0.19212392563741335   \n",
       "3  2.0  10.360251228980335  10.300466470452955  0.17549085953239374   \n",
       "4  3.0   10.80390972659004  10.312557217558513  0.17323566126465537   \n",
       "5  4.0  10.394728729311534   10.37468143471091  0.16202803475923372   \n",
       "\n",
       "0             Mean ci             Mean ci         Predict ci  \\\n",
       "1             95% low             95% upp            95% low   \n",
       "2   9.891446296702268  10.537430177583344  9.292449472453823   \n",
       "3  10.005437451751144  10.595495489154766  9.387897782353628   \n",
       "4   10.02131955832512  10.603794876791907  9.401207195460023   \n",
       "5  10.102285640282792  10.647077229139027  9.469176626636816   \n",
       "\n",
       "0          Predict ci             Residual            Std Error  \\\n",
       "1             95% upp                                  Residual   \n",
       "2   11.13642700183179  0.07651991331638897  0.47638662268581694   \n",
       "3  11.213035158552282  0.05978475852738008   0.4827616133216382   \n",
       "4  11.223907239657004  0.49135250903152716  0.48357545713417555   \n",
       "5  11.280186242785003  0.02004729460062471  0.48744510770792415   \n",
       "\n",
       "0              Student                 Cook's  \n",
       "1             Residual                      D  \n",
       "2  0.16062565502989537  0.0020981842194241216  \n",
       "3  0.12383908926816163  0.0010132790080957489  \n",
       "4   1.0160823957928737     0.0662481801559318  \n",
       "5  0.04112728650594437  9.344563393912305e-05  "
      ]
     },
     "execution_count": 15,
     "metadata": {},
     "output_type": "execute_result"
    }
   ],
   "source": [
    "df.head()"
   ]
  },
  {
   "cell_type": "markdown",
   "metadata": {},
   "source": [
    "---"
   ]
  },
  {
   "cell_type": "markdown",
   "metadata": {},
   "source": [
    "## Regression using smf.ols\n",
    "\n",
    "In this case, it adds a constant to the x variable automatically."
   ]
  },
  {
   "cell_type": "code",
   "execution_count": 16,
   "metadata": {},
   "outputs": [],
   "source": [
    "RegModel = smf.ols(data=Dat, formula=\"Y ~ X\")\n",
    "RegModelFit = RegModel.fit()"
   ]
  },
  {
   "cell_type": "code",
   "execution_count": 17,
   "metadata": {},
   "outputs": [
    {
     "data": {
      "text/html": [
       "<table class=\"simpletable\">\n",
       "<tr>\n",
       "        <td>Model:</td>               <td>OLS</td>         <td>Adj. R-squared:</td>     <td>0.446</td> \n",
       "</tr>\n",
       "<tr>\n",
       "  <td>Dependent Variable:</td>         <td>Y</td>               <td>AIC:</td>          <td>32.0033</td>\n",
       "</tr>\n",
       "<tr>\n",
       "         <td>Date:</td>        <td>2024-10-07 13:40</td>        <td>BIC:</td>          <td>33.9947</td>\n",
       "</tr>\n",
       "<tr>\n",
       "   <td>No. Observations:</td>         <td>20</td>          <td>Log-Likelihood:</td>    <td>-14.002</td>\n",
       "</tr>\n",
       "<tr>\n",
       "       <td>Df Model:</td>              <td>1</td>           <td>F-statistic:</td>       <td>16.27</td> \n",
       "</tr>\n",
       "<tr>\n",
       "     <td>Df Residuals:</td>           <td>18</td>        <td>Prob (F-statistic):</td> <td>0.000779</td>\n",
       "</tr>\n",
       "<tr>\n",
       "      <td>R-squared:</td>            <td>0.475</td>            <td>Scale:</td>         <td>0.26386</td>\n",
       "</tr>\n",
       "</table>\n",
       "<table class=\"simpletable\">\n",
       "<tr>\n",
       "      <td></td>       <th>Coef.</th>  <th>Std.Err.</th>    <th>t</th>     <th>P>|t|</th> <th>[0.025</th> <th>0.975]</th> \n",
       "</tr>\n",
       "<tr>\n",
       "  <th>Intercept</th> <td>10.1769</td>  <td>0.1997</td>  <td>50.9693</td> <td>0.0000</td> <td>9.7574</td> <td>10.5964</td>\n",
       "</tr>\n",
       "<tr>\n",
       "  <th>X</th>         <td>1.6711</td>   <td>0.4143</td>  <td>4.0336</td>  <td>0.0008</td> <td>0.8007</td> <td>2.5415</td> \n",
       "</tr>\n",
       "</table>\n",
       "<table class=\"simpletable\">\n",
       "<tr>\n",
       "     <td>Omnibus:</td>    <td>1.246</td>  <td>Durbin-Watson:</td>   <td>1.798</td>\n",
       "</tr>\n",
       "<tr>\n",
       "  <td>Prob(Omnibus):</td> <td>0.536</td> <td>Jarque-Bera (JB):</td> <td>0.464</td>\n",
       "</tr>\n",
       "<tr>\n",
       "       <td>Skew:</td>     <td>0.367</td>     <td>Prob(JB):</td>     <td>0.793</td>\n",
       "</tr>\n",
       "<tr>\n",
       "     <td>Kurtosis:</td>   <td>3.136</td>  <td>Condition No.:</td>     <td>4</td>  \n",
       "</tr>\n",
       "</table><br/>\n",
       "Notes:<br/>\n",
       "[1] Standard Errors assume that the covariance matrix of the errors is correctly specified."
      ],
      "text/latex": [
       "\\begin{table}\n",
       "\\caption{Results: Ordinary least squares}\n",
       "\\label{}\n",
       "\\begin{center}\n",
       "\\begin{tabular}{llll}\n",
       "\\hline\n",
       "Model:              & OLS              & Adj. R-squared:     & 0.446     \\\\\n",
       "Dependent Variable: & Y                & AIC:                & 32.0033   \\\\\n",
       "Date:               & 2024-10-07 13:40 & BIC:                & 33.9947   \\\\\n",
       "No. Observations:   & 20               & Log-Likelihood:     & -14.002   \\\\\n",
       "Df Model:           & 1                & F-statistic:        & 16.27     \\\\\n",
       "Df Residuals:       & 18               & Prob (F-statistic): & 0.000779  \\\\\n",
       "R-squared:          & 0.475            & Scale:              & 0.26386   \\\\\n",
       "\\hline\n",
       "\\end{tabular}\n",
       "\\end{center}\n",
       "\n",
       "\\begin{center}\n",
       "\\begin{tabular}{lrrrrrr}\n",
       "\\hline\n",
       "          &   Coef. & Std.Err. &       t & P$> |$t$|$ & [0.025 &  0.975]  \\\\\n",
       "\\hline\n",
       "Intercept & 10.1769 &   0.1997 & 50.9693 &      0.0000 & 9.7574 & 10.5964  \\\\\n",
       "X         &  1.6711 &   0.4143 &  4.0336 &      0.0008 & 0.8007 &  2.5415  \\\\\n",
       "\\hline\n",
       "\\end{tabular}\n",
       "\\end{center}\n",
       "\n",
       "\\begin{center}\n",
       "\\begin{tabular}{llll}\n",
       "\\hline\n",
       "Omnibus:       & 1.246 & Durbin-Watson:    & 1.798  \\\\\n",
       "Prob(Omnibus): & 0.536 & Jarque-Bera (JB): & 0.464  \\\\\n",
       "Skew:          & 0.367 & Prob(JB):         & 0.793  \\\\\n",
       "Kurtosis:      & 3.136 & Condition No.:    & 4      \\\\\n",
       "\\hline\n",
       "\\end{tabular}\n",
       "\\end{center}\n",
       "\\end{table}\n",
       "\\bigskip\n",
       "Notes: \\newline \n",
       "[1] Standard Errors assume that the covariance matrix of the errors is correctly specified."
      ],
      "text/plain": [
       "<class 'statsmodels.iolib.summary2.Summary'>\n",
       "\"\"\"\n",
       "                 Results: Ordinary least squares\n",
       "=================================================================\n",
       "Model:              OLS              Adj. R-squared:     0.446   \n",
       "Dependent Variable: Y                AIC:                32.0033 \n",
       "Date:               2024-10-07 13:40 BIC:                33.9947 \n",
       "No. Observations:   20               Log-Likelihood:     -14.002 \n",
       "Df Model:           1                F-statistic:        16.27   \n",
       "Df Residuals:       18               Prob (F-statistic): 0.000779\n",
       "R-squared:          0.475            Scale:              0.26386 \n",
       "------------------------------------------------------------------\n",
       "                Coef.   Std.Err.     t     P>|t|   [0.025   0.975]\n",
       "------------------------------------------------------------------\n",
       "Intercept      10.1769    0.1997  50.9693  0.0000  9.7574  10.5964\n",
       "X               1.6711    0.4143   4.0336  0.0008  0.8007   2.5415\n",
       "-----------------------------------------------------------------\n",
       "Omnibus:              1.246        Durbin-Watson:           1.798\n",
       "Prob(Omnibus):        0.536        Jarque-Bera (JB):        0.464\n",
       "Skew:                 0.367        Prob(JB):                0.793\n",
       "Kurtosis:             3.136        Condition No.:           4    \n",
       "=================================================================\n",
       "Notes:\n",
       "[1] Standard Errors assume that the covariance matrix of the\n",
       "errors is correctly specified.\n",
       "\"\"\""
      ]
     },
     "execution_count": 17,
     "metadata": {},
     "output_type": "execute_result"
    }
   ],
   "source": [
    "RegModelFit.summary2()"
   ]
  }
 ],
 "metadata": {
  "kernelspec": {
   "display_name": "Python 3",
   "language": "python",
   "name": "python3"
  },
  "language_info": {
   "codemirror_mode": {
    "name": "ipython",
    "version": 3
   },
   "file_extension": ".py",
   "mimetype": "text/x-python",
   "name": "python",
   "nbconvert_exporter": "python",
   "pygments_lexer": "ipython3",
   "version": "3.12.5"
  }
 },
 "nbformat": 4,
 "nbformat_minor": 2
}
